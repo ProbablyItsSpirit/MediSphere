{
  "cells": [
    {
      "cell_type": "code",
      "source": [
        "!git clone https://huggingface.co/ruslanmv/Medical-Llama3-8B"
      ],
      "metadata": {
        "id": "7yQrHXD-k2tO"
      },
      "execution_count": null,
      "outputs": []
    },
    {
      "cell_type": "code",
      "execution_count": null,
      "metadata": {
        "collapsed": true,
        "id": "wDKJYNvkCU7F"
      },
      "outputs": [],
      "source": [
        "!pip install transformers bitsandbytes accelerate torch"
      ]
    },
    {
      "cell_type": "code",
      "execution_count": null,
      "metadata": {
        "id": "Z0KXWki4Cdym"
      },
      "outputs": [],
      "source": [
        "from transformers import AutoModelForCausalLM, AutoTokenizer, BitsAndBytesConfig\n",
        "import torch"
      ]
    },
    {
      "cell_type": "code",
      "execution_count": null,
      "metadata": {
        "id": "T_C5SVOjDuZI"
      },
      "outputs": [],
      "source": [
        "model_name = \"ruslanmv/Medical-Llama3-8B\"\n",
        "device_map = 'auto'"
      ]
    },
    {
      "cell_type": "code",
      "execution_count": null,
      "metadata": {
        "id": "exvKIUtEDxHS"
      },
      "outputs": [],
      "source": [
        "bnb_config = BitsAndBytesConfig(\n",
        "    load_in_4bit=True,\n",
        "    bnb_4bit_quant_type=\"nf4\",\n",
        "    bnb_4bit_compute_dtype=torch.float16\n",
        ")"
      ]
    },
    {
      "cell_type": "code",
      "execution_count": null,
      "metadata": {
        "id": "Pmky8B9MDzbK"
      },
      "outputs": [],
      "source": [
        "model = AutoModelForCausalLM.from_pretrained(\n",
        "    model_name,\n",
        "    quantization_config=bnb_config,\n",
        "    trust_remote_code=True,\n",
        "    use_cache=False,\n",
        "    device_map=device_map\n",
        ")"
      ]
    },
    {
      "cell_type": "code",
      "execution_count": null,
      "metadata": {
        "id": "cdKx17tWD0vV"
      },
      "outputs": [],
      "source": [
        "tokenizer = AutoTokenizer.from_pretrained(model_name, trust_remote_code=True)\n",
        "tokenizer.pad_token = tokenizer.eos_token"
      ]
    },
    {
      "cell_type": "code",
      "execution_count": null,
      "metadata": {
        "id": "HR9hcsvuD4EQ"
      },
      "outputs": [],
      "source": [
        "tokenizer = AutoTokenizer.from_pretrained(model_name, trust_remote_code=True)\n",
        "\n",
        "tokenizer.chat_templates = {\n",
        "    \"default\": {\n",
        "        \"system\": \"You are an AI Medical Assistant trained to provide health advice. Please answer thoroughly.\",\n",
        "        \"assistant\": \"AI: {content}\"\n",
        "    }\n",
        "}\n",
        "tokenizer.chat_template = \"default\""
      ]
    },
    {
      "cell_type": "code",
      "execution_count": null,
      "metadata": {
        "id": "pjsQue4HINdw"
      },
      "outputs": [],
      "source": [
        "conversation_history = []"
      ]
    },
    {
      "cell_type": "code",
      "execution_count": null,
      "metadata": {
        "id": "Xbjw7-StKVm8"
      },
      "outputs": [],
      "source": [
        "def askme(question):\n",
        "    global conversation_history\n",
        "\n",
        "    if question is None or question.strip() == \"\":\n",
        "        raise ValueError(\"The question must be defined before calling askme().\")\n",
        "\n",
        "    # Add the user's question to the conversation history\n",
        "    conversation_history.append({\"role\": \"user\", \"content\": question})\n",
        "\n",
        "    # Construct the prompt for the model\n",
        "    prompt = f\"User: {question}\\nAI:\"\n",
        "\n",
        "    # Tokenize and generate the response\n",
        "    inputs = tokenizer(prompt, return_tensors=\"pt\").to(\"cuda\")\n",
        "    outputs = model.generate(**inputs, max_new_tokens=50, use_cache=True)\n",
        "\n",
        "    # Extract and return the generated text\n",
        "    response_text = tokenizer.batch_decode(outputs, skip_special_tokens=True)[0].strip()\n",
        "\n",
        "    # Handle the response format\n",
        "    answer = response_text.split('AI:')[-1].strip() if 'AI:' in response_text else response_text\n",
        "\n",
        "    conversation_history.append({\"role\": \"assistant\", \"content\": answer})\n",
        "\n",
        "    return answer\n"
      ]
    },
    {
      "cell_type": "code",
      "execution_count": null,
      "metadata": {
        "colab": {
          "background_save": true
        },
        "id": "FSwKWxHNEY_n"
      },
      "outputs": [],
      "source": [
        "def start_conversation():\n",
        "    print(\"Medical Assistant is ready. Type your question (type 'exit' to stop):\\n\")\n",
        "\n",
        "    while True:\n",
        "        user_input = input(\"You: \")\n",
        "\n",
        "        if user_input.lower() == 'exit':\n",
        "            print(\"Ending conversation.\")\n",
        "            break\n",
        "\n",
        "        response = askme(user_input)\n",
        "\n",
        "        print(f\"AI: {response}\\n\")\n",
        "\n",
        "start_conversation()"
      ]
    }
  ],
  "metadata": {
    "colab": {
      "provenance": [],
      "gpuType": "T4"
    },
    "kernelspec": {
      "display_name": "Python 3",
      "name": "python3"
    },
    "language_info": {
      "name": "python"
    },
    "accelerator": "GPU"
  },
  "nbformat": 4,
  "nbformat_minor": 0
}